{
 "cells": [
  {
   "cell_type": "markdown",
   "metadata": {},
   "source": [
    "[![Open In Colab](https://colab.research.google.com/assets/colab-badge.svg)](https://colab.research.google.com/github/PennNGG/Quantitative-Neuroscience/blob/master/Probability%20Distributions/Python/Binomial.ipynb)"
   ]
  },
  {
   "cell_type": "markdown",
   "metadata": {
    "id": "pKIiY6p3GRFq"
   },
   "source": [
    "# Definition"
   ]
  },
  {
   "cell_type": "markdown",
   "metadata": {
    "id": "x7VmLUr5GTNw"
   },
   "source": [
    "The binomial distribution is a discrete probability distribution that describes the probability of obtaining exactly k successes out of n Bernoulli trials, which are individual binary outcomes that each have a success probability of p. For example, if you flip a coin 10 times, what is the probability that it will come up heads 0, 1, 2, ... 10 times?\n",
    "\n",
    "Mathematically, this distribution defines the probability of obtaining *k* successes in *n* trials given a constant probability of success *p* on each trial, which is defined as:\n",
    "\n",
    "[1] $P(X=k\\: successes)=\\left ( \\frac{n}{k} \\right )p^{k}\\left ( 1-p \\right )^{n-k}$\n",
    "\n",
    "for *k* = 0, 1, 2, ... , *n*, and where\n",
    "\n",
    "$\\left ( \\frac{n}{k} \\right )=\\frac{n!}{k!\\left ( n-k \\right )!}$\n",
    "\n",
    " is called the \"binomial coefficient\" and is pronounced \"[n-choose-k](https://www.hackmath.net/en/calculator/n-choose-k)\""
   ]
  },
  {
   "cell_type": "markdown",
   "metadata": {
    "id": "bkVu6eGKIIiQ"
   },
   "source": [
    "# Getting Started with Code\n"
   ]
  },
  {
   "cell_type": "markdown",
   "metadata": {
    "id": "gxusMZ-UN_6m"
   },
   "source": [
    "Matlab code is found in the [NGG Statistics GitHub Repository](https://github.com/PennNGG/Statistics.git) under \"Probability Distributions/Binomial.m\".\n",
    "\n",
    "Python code is included below. First run the code cell just below to make sure all of the required Python modules are loaded, then you can run the other cell(s)."
   ]
  },
  {
   "cell_type": "code",
   "metadata": {
    "executionInfo": {
     "elapsed": 101,
     "status": "ok",
     "timestamp": 1631886943334,
     "user": {
      "displayName": "Andy Revell",
      "photoUrl": "https://lh3.googleusercontent.com/a-/AOh14Gj5gNTTY1RDZJBZaP8Pnu_AnG7Wlu4JydmSsiPWXA=s64",
      "userId": "00217113324745895537"
     },
     "user_tz": 240
    },
    "id": "W633IbbRIdwa",
    "ExecuteTime": {
     "end_time": "2025-09-05T06:17:55.487746Z",
     "start_time": "2025-09-05T06:17:55.470405Z"
    }
   },
   "source": [
    "import numpy as np\n",
    "import random as rnd\n",
    "import collections\n",
    "import matplotlib.pyplot as plt\n",
    "import time\n",
    "import scipy.stats as st\n",
    "\n",
    "from scipy.stats import bernoulli, binom, poisson, chi2\n",
    "from IPython.display import clear_output\n",
    "from operator import itemgetter\n",
    "from statsmodels.stats import proportion\n",
    "\n",
    "from numpy import matlib"
   ],
   "outputs": [],
   "execution_count": 1
  },
  {
   "cell_type": "markdown",
   "metadata": {
    "id": "u3yXPCmMH2CH"
   },
   "source": [
    "# Tutorial"
   ]
  },
  {
   "cell_type": "code",
   "metadata": {
    "colab": {
     "base_uri": "https://localhost:8080/"
    },
    "executionInfo": {
     "elapsed": 131,
     "status": "ok",
     "timestamp": 1631886808679,
     "user": {
      "displayName": "Andy Revell",
      "photoUrl": "https://lh3.googleusercontent.com/a-/AOh14Gj5gNTTY1RDZJBZaP8Pnu_AnG7Wlu4JydmSsiPWXA=s64",
      "userId": "00217113324745895537"
     },
     "user_tz": 240
    },
    "id": "4ESB1xpmItGp",
    "outputId": "0dd49b33-f7a5-4a75-cea6-503746b10e39",
    "ExecuteTime": {
     "end_time": "2025-09-05T06:17:57.540063Z",
     "start_time": "2025-09-05T06:17:57.533742Z"
    }
   },
   "source": [
    "# Choose some values for the parameters n and p\n",
    "p = 0.7\n",
    "n = 1000\n",
    "\n",
    "# Generate random picks. Note that this is as if we generated Bernoulli trials \n",
    "#   as above, but then just counted the successes in each \"experiment\"\n",
    "num_successes = binom.rvs(n,p) # uses the \"random variates\" method (rvs) of binom\n",
    "\n",
    "# Print out the results\n",
    "print(f'{num_successes} successes out of {n} trials, simulated p = {p:.4f}, empirical p = {num_successes/n:.4f}')"
   ],
   "outputs": [
    {
     "name": "stdout",
     "output_type": "stream",
     "text": [
      "722 successes out of 1000 trials, simulated p = 0.7000, empirical p = 0.7220\n"
     ]
    }
   ],
   "execution_count": 2
  },
  {
   "cell_type": "code",
   "metadata": {
    "colab": {
     "base_uri": "https://localhost:8080/",
     "height": 295
    },
    "executionInfo": {
     "elapsed": 436,
     "status": "ok",
     "timestamp": 1631886810457,
     "user": {
      "displayName": "Andy Revell",
      "photoUrl": "https://lh3.googleusercontent.com/a-/AOh14Gj5gNTTY1RDZJBZaP8Pnu_AnG7Wlu4JydmSsiPWXA=s64",
      "userId": "00217113324745895537"
     },
     "user_tz": 240
    },
    "id": "AWJMhBIZIuFU",
    "outputId": "7ebf91ba-1b28-4fd3-ef17-cb1db4bd3d4f",
    "ExecuteTime": {
     "end_time": "2025-09-05T06:18:00.516849Z",
     "start_time": "2025-09-05T06:17:59.810277Z"
    }
   },
   "source": [
    "# The full probability distribution describes the probabilty of obtaining each \n",
    "#   possible number of successes (k), given n and p. If we set n=10, the the \n",
    "#   possible values of k are 0, 1, ..., 10. Now we use binom.rvs to simulate \n",
    "#   many different picks to get a full distribution\n",
    "p = 0.7\n",
    "n = 10                      # number of \"trials\" per \"experiment\"\n",
    "num_experiments = 1000;     # number of \"experiments\"\n",
    "outcomes = binom.rvs(n,p,size=num_experiments)\n",
    "\n",
    "# Show a bar plot (histogram) of all of the possible outcomes\n",
    "counts = collections.Counter(outcomes)\n",
    "plt.subplot(211)\n",
    "plt.bar(counts.keys(), counts.values())\n",
    "plt.xlim([-1, n+1])\n",
    "plt.title(f'Binomial distribution, n={n}, p={p:.2f}, {num_experiments} simulations')\n",
    "plt.ylabel('Count')\n",
    "\n",
    "# Show a normalized version that is a pdf. Here counts (the x-axis of the histogram) \n",
    "#   is a DISCRETE variable, so we just have to add up the values\n",
    "normalized_counts = {k: v / total for total in (sum(counts.values()),) for k, v in counts.items()}\n",
    "plt.subplot(212)\n",
    "plt.bar(normalized_counts.keys(), normalized_counts.values())\n",
    "plt.xlim([-1, n+1])\n",
    "plt.xlabel(f'Probability of success in {n} tries')\n",
    "plt.ylabel('Probability')\n",
    "plt.subplots_adjust(hspace=0.3)"
   ],
   "outputs": [
    {
     "data": {
      "text/plain": [
       "<Figure size 640x480 with 2 Axes>"
      ],
      "image/png": "[encoded data removed]"
     },
     "metadata": {},
     "output_type": "display_data"
    }
   ],
   "execution_count": 3
  },
  {
   "cell_type": "code",
   "metadata": {
    "colab": {
     "base_uri": "https://localhost:8080/",
     "height": 295
    },
    "executionInfo": {
     "elapsed": 30994,
     "status": "ok",
     "timestamp": 1631886843879,
     "user": {
      "displayName": "Andy Revell",
      "photoUrl": "https://lh3.googleusercontent.com/a-/AOh14Gj5gNTTY1RDZJBZaP8Pnu_AnG7Wlu4JydmSsiPWXA=s64",
      "userId": "00217113324745895537"
     },
     "user_tz": 240
    },
    "id": "XxTbmZOSJEl8",
    "outputId": "cb4e6339-a209-4955-c8ae-5fe38a3cdee0"
   },
   "source": [
    "# Now let's make a fun animation showing different values of p and N. \n",
    "#   Note that, of course, the more picks you make of the random variable \n",
    "#   (higher N), the more closely the outcomes (the \"samples\") match the true \n",
    "#   distribution.\n",
    "n=10\n",
    "xs = range(0, n)\n",
    "f = plt.figure()\n",
    "for p in np.arange(0, 1, 0.1):\n",
    "    for N in np.round(np.logspace(1,5,10)):\n",
    "\n",
    "        # Get the true binomial pdf\n",
    "        Y = binom.pmf(xs,n,p)\n",
    "\n",
    "        # Get the random picks, make histogram and normalize\n",
    "        counts = collections.Counter(binom.rvs(n,p,size=int(N)))\n",
    "        normalized_counts = {k: v / total for total in (sum(counts.values()),) for k, v in counts.items()}\n",
    "\n",
    "        # Show both\n",
    "        plt.bar(normalized_counts.keys(), normalized_counts.values())\n",
    "        plt.plot(xs, Y, 'ro-', linewidth=2, markersize=10)\n",
    "        \n",
    "        # Labels, etc\n",
    "        plt.title(f'p={p:.1f}, n={n}, N={N:.2f}')\n",
    "        plt.xlabel(f'Number of successes in {n} tries')\n",
    "        plt.ylabel('Probability')\n",
    "        plt.axis([-1, n+1, 0, 0.45])\n",
    "        plt.legend(('Theoretical', 'Simulated'))\n",
    "        plt.show()\n",
    "\n",
    "        # Wait\n",
    "        time.sleep(0.1)\n",
    "\n",
    "        # Clear for next plot\n",
    "        clear_output(wait=True)\n",
    "\n"
   ],
   "execution_count": 6,
   "outputs": []
  },
  {
   "cell_type": "code",
   "metadata": {
    "colab": {
     "base_uri": "https://localhost:8080/",
     "height": 312
    },
    "executionInfo": {
     "elapsed": 399,
     "status": "ok",
     "timestamp": 1631886849169,
     "user": {
      "displayName": "Andy Revell",
      "photoUrl": "https://lh3.googleusercontent.com/a-/AOh14Gj5gNTTY1RDZJBZaP8Pnu_AnG7Wlu4JydmSsiPWXA=s64",
      "userId": "00217113324745895537"
     },
     "user_tz": 240
    },
    "id": "kUAJ6LCyJbRN",
    "outputId": "a0b3758e-166e-4843-909c-92a5e5a68d10",
    "ExecuteTime": {
     "end_time": "2025-09-05T06:18:28.850379Z",
     "start_time": "2025-09-05T06:18:28.648760Z"
    }
   },
   "source": [
    "# The cumulative distribution function is just the proability of obtaining an \n",
    "#   outcome that is equal to OR LESS THAN a particular value.\n",
    "p = 0.7\n",
    "n = 10                      # number of \"trials\" per \"experiment\"\n",
    "num_experiments = 1000;     # number of \"experiments\"\n",
    "outcomes = binom.rvs(n,p,size=num_experiments)\n",
    "\n",
    "# Make histogram\n",
    "counts = collections.Counter(outcomes)\n",
    "\n",
    "# Unzip keys from values in a sorted order\n",
    "keys, values = zip(*sorted(counts.items(), key=itemgetter(0)))\n",
    "\n",
    "# Compute the cumulative sum of the counts normalized by the total counts (so \n",
    "#   it is a probability function and not just a histogram -- note that the final \n",
    "#   value in the cdf should equal 1 because every value should be equal to or \n",
    "#   less than that value).\n",
    "total = sum(values)\n",
    "cumulative_ps = [x/total for x in np.cumsum(values)]\n",
    "\n",
    "# Plot as a bar graph\n",
    "plt.bar(keys, cumulative_ps)\n",
    "\n",
    "# Compare it to the real binomial cumulative distribution, which we find \n",
    "#   using binom.cdf\n",
    "Y = binom.cdf(keys,n,p)\n",
    "plt.plot(keys, Y, 'ro-', linewidth=2, markersize=10)\n",
    "\n",
    "# Labels, etc\n",
    "plt.title(f'Cumulative binomial distribution, p={p:.1f}, n={n}, N={num_experiments}')\n",
    "plt.xlabel(f'Number of successes in {n} tries')\n",
    "plt.ylabel('Cumulative probability')\n",
    "plt.legend(('Theoretical', 'Simulated'))"
   ],
   "outputs": [
    {
     "data": {
      "text/plain": [
       "<matplotlib.legend.Legend at 0x20780830a70>"
      ]
     },
     "execution_count": 5,
     "metadata": {},
     "output_type": "execute_result"
    },
    {
     "data": {
      "text/plain": [
       "<Figure size 640x480 with 1 Axes>"
      ],
      "image/png": "[encoded data removed]"
     },
     "metadata": {},
     "output_type": "display_data"
    }
   ],
   "execution_count": 5
  },
  {
   "cell_type": "markdown",
   "metadata": {
    "id": "NPyYR5dgJ4Q9"
   },
   "source": [
    "# Neuroscience Example: Quantal Release"
   ]
  },
  {
   "cell_type": "markdown",
   "metadata": {
    "id": "Egvzk_qLKOYl"
   },
   "source": [
    "From: Johnson, E.W., and Wernig, A. (1971). [The binomial nature of transmitter release at the crayfish neuromuscular junction](https://www.ncbi.nlm.nih.gov/pmc/articles/PMC1331610/). J Physiol 218, 757-767. \n",
    "\n",
    "Classic studies by [Bernard Katz and colleagues](https://www.ncbi.nlm.nih.gov/pmc/articles/PMC2151334/) indicated that chemical neurotransmitters are released from presynaptic nerve terminals in discrete quanta, or packets, with a relatively constant release probability. A straightforward implication of this idea is that the release statistics (i.e., the distribution of the number of quanta that are actually released in response to a given event like an action potential reaching the presynaptic nerve terminal) should follow a binomial distribution. As stated by Johnson and Wernig:\n",
    "\n",
    "\"If the average probability of release is constant, then it follows from the hypothesis that the relative frequency of 0, 1, 2, 3, . . . quantal releases in a series of trials is given by the successive terms in the binomial expansion $(p + q)^n$, where *q*=1–*p* is the average probability that a quantum will not be released. In a given trial, the probability that *x* quanta will be released (*px*) is given by the binomial term\" [i.e., Eq. 1, above, but substitute *x* for *k*].\n",
    "\n",
    "In other words, if there are *n* available quanta in a presynaptic terminal, and each is released with probability *p*, then the number of quanta that are actually released should follow a binomial distribution with parameters *n* and *p*.\n",
    "\n",
    "Answers to the exercises below will be found [here](https://github.com/PennNGG/Quantitative-Neuroscience/tree/master/Answers%20to%20Exercises/Python) after the due date."
   ]
  },
  {
   "cell_type": "markdown",
   "metadata": {
    "id": "VveIEEiyLUSk"
   },
   "source": [
    "## Exercise 1\n",
    "Assume that there are 10 quanta available in a nerve terminal, and for a given release event each is released with a probability of 0.2. For one such event, what is the probability that 0, 1, 2, 3, 4, 5, 6, 7, 8, 9, or 10 quanta will be released?"
   ]
  },
  {
   "metadata": {
    "ExecuteTime": {
     "end_time": "2025-09-05T06:46:53.660011Z",
     "start_time": "2025-09-05T06:46:53.650718Z"
    }
   },
   "cell_type": "code",
   "source": [
    "p = 0.2\n",
    "n = 10 \n",
    "vals = np.arange(0,11)\n",
    "Y = binom.pmf(vals,n,p)\n",
    "\n",
    "for val, prob in zip(vals, Y):\n",
    "    print(f'The probability of {val:.0f} quanta releasing is {prob:.7f}')"
   ],
   "outputs": [
    {
     "name": "stdout",
     "output_type": "stream",
     "text": [
      "The probability of 0 quanta releasing is 0.1073742\n",
      "The probability of 1 quanta releasing is 0.2684355\n",
      "The probability of 2 quanta releasing is 0.3019899\n",
      "The probability of 3 quanta releasing is 0.2013266\n",
      "The probability of 4 quanta releasing is 0.0880804\n",
      "The probability of 5 quanta releasing is 0.0264241\n",
      "The probability of 6 quanta releasing is 0.0055050\n",
      "The probability of 7 quanta releasing is 0.0007864\n",
      "The probability of 8 quanta releasing is 0.0000737\n",
      "The probability of 9 quanta releasing is 0.0000041\n",
      "The probability of 10 quanta releasing is 0.0000001\n"
     ]
    }
   ],
   "execution_count": 17
  },
  {
   "cell_type": "markdown",
   "metadata": {
    "id": "eG7Kvl5pL4jf"
   },
   "source": [
    "## Exercise 2\n",
    "Let's say you know that a given nerve terminal contains exactly 14 quanta available for release. You have read in the literature that the release probability of these quanta is low, say 0.1. To assess whether this value is reasonable, you run a simple experiment: activate the nerve and measure the number of quanta that are released. The result is 8 quanta. What is the probability that you would get this result (8 quanta) if the true probability of release really was 0.1? What about if the true release probability was much higher; say, 0.7? What about for each decile of release probability (0.1, 0.2, ... 1.0)? Which value of release probability did you determine to be the most probable, given your measurement?\n",
    "\n",
    "Note: here you are computing a likelihood function: a function describing how the value of the conditional probability *p*(*data* | *parameters*) changes when you hold your data fixed to the value(s) you measured and vary the value(s) of the parameter(s) of, in this case, the binomial distribution. Because you are varying the parameters and not the data, the values of the function are not expected to sum to one (e.g., you can have numerous parameters that have a very high probability of producing the given data) and thus this function is not a probability distribution (see [here](https://www.psychologicalscience.org/observer/bayes-for-beginners-probability-and-likelihood) for an extended discussion). The maximum value of this function is called the maximum likelihood. "
   ]
  },
  {
   "metadata": {
    "ExecuteTime": {
     "end_time": "2025-09-05T06:54:09.009557Z",
     "start_time": "2025-09-05T06:54:09.000094Z"
    }
   },
   "cell_type": "code",
   "source": [
    "deciles = np.arange(0.1,1.1,0.1)\n",
    "n = 14\n",
    "k = 8\n",
    "decile_vals = [binom.pmf(k, n, p) for p in deciles]\n",
    "\n",
    "for decile, val in zip(deciles, decile_vals):\n",
    "    print(f'The probability of decile {decile:.1f} producing this result is {val:.7f}')\n",
    "print(f'The decile that is most probable given my data is {deciles[np.argmax(decile_vals)]}')"
   ],
   "outputs": [
    {
     "name": "stdout",
     "output_type": "stream",
     "text": [
      "The probability of decile 0.1 producing this result is 0.0000160\n",
      "The probability of decile 0.2 producing this result is 0.0020153\n",
      "The probability of decile 0.3 producing this result is 0.0231800\n",
      "The probability of decile 0.4 producing this result is 0.0918212\n",
      "The probability of decile 0.5 producing this result is 0.1832886\n",
      "The probability of decile 0.6 producing this result is 0.2065976\n",
      "The probability of decile 0.7 producing this result is 0.1262023\n",
      "The probability of decile 0.8 producing this result is 0.0322445\n",
      "The probability of decile 0.9 producing this result is 0.0012927\n",
      "The probability of decile 1.0 producing this result is 0.0000000\n",
      "The decile that is most probable given my data is 0.6\n"
     ]
    }
   ],
   "execution_count": 22
  },
  {
   "cell_type": "markdown",
   "metadata": {
    "id": "-INGaYFtM-Cp"
   },
   "source": [
    "## Exercise 3\n",
    "\n",
    "Not feeling convinced by your single experiment (good scientist!), you repeat it under identical conditions. This time you measure 5 quanta that were released. Your sample size has now doubled, to two measurements. You now want to take into account both measurements when you assess the likelihoods of different possible values of the underlying release probability. To do so, assume that the two measurements in this sample are independent of one another; that is, the value of each result had no bearing on the other. In this case, the total likelihood is simply the product of the likelihoods associated with each separate measurement. It is also typical to compute the logarithm of each likelihood and take their sum, which is often more convenient. What are the values of the total likelihood and total log-likelihood in this example, if we assume that the true release probability is 0.1?\n",
    "\n",
    "Of course, knowing those values of the likelihood and log-likelihood is not particularly useful until you can compare them to the values computed for other possible values for the release probability, so you can determine which value of release probability is most likely, given the data. Therefore, compute the full likelihood and log-likelihood functions using deciles of release probability between 0 and 1. What is the maximum value? Can you improve your estimate by computing the functions at a higher resolution? How does the estimate improve as you increase the sample size?"
   ]
  },
  {
   "metadata": {
    "ExecuteTime": {
     "end_time": "2025-09-05T07:07:07.081150Z",
     "start_time": "2025-09-05T07:07:07.065192Z"
    }
   },
   "cell_type": "code",
   "source": [
    "k2 = 5\n",
    "decile_vals2 = [binom.pmf(k2, n, p) for p in deciles]\n",
    "likelihoods = np.array(decile_vals) * np.array(decile_vals2)\n",
    "loglikelihoods = np.log(decile_vals)+np.log(decile_vals2)\n",
    "for decile, like, loglike in zip(deciles, likelihoods, loglikelihoods):\n",
    "    print(f'For decile {decile:.1f} the likelihood is {like:.7f} and the log likelihood is {loglike:.7f}')\n",
    "print(f'The decile that is most probable given my data is {deciles[np.argmax(loglikelihoods)]}')\n",
    "print('The estimates standard error should decrease by a factor of 1/sqrt(sample size)')"
   ],
   "outputs": [
    {
     "name": "stdout",
     "output_type": "stream",
     "text": [
      "For decile 0.1 the likelihood is 0.0000001 and the log likelihood is -15.9047449\n",
      "For decile 0.2 the likelihood is 0.0001733 and the log likelihood is -8.6605771\n",
      "For decile 0.3 the likelihood is 0.0045506 and the log likelihood is -5.3925016\n",
      "For decile 0.4 the likelihood is 0.0189700 and the log likelihood is -3.9648948\n",
      "For decile 0.5 the likelihood is 0.0223965 and the log likelihood is -3.7988520\n",
      "For decile 0.6 the likelihood is 0.0084311 and the log likelihood is -4.7758251\n",
      "For decile 0.7 the likelihood is 0.0008358 and the log likelihood is -7.0870973\n",
      "For decile 0.8 the likelihood is 0.0000108 and the log likelihood is -11.4331658\n",
      "For decile 0.9 the likelihood is 0.0000000 and the log likelihood is -20.2991941\n",
      "For decile 1.0 the likelihood is 0.0000000 and the log likelihood is -inf\n",
      "The decile that is most probable given my data is 0.5\n",
      "The estimates standard error should decrease by a factor of 1/sqrt(sample size)\n"
     ]
    },
    {
     "name": "stderr",
     "output_type": "stream",
     "text": [
      "C:\\Users\\woolleyj\\AppData\\Local\\Temp\\ipykernel_4752\\234213991.py:4: RuntimeWarning: divide by zero encountered in log\n",
      "  loglikelihoods = np.log(decile_vals)+np.log(decile_vals2)\n"
     ]
    }
   ],
   "execution_count": 25
  },
  {
   "cell_type": "markdown",
   "metadata": {
    "id": "GCN6aNp1N0nC"
   },
   "source": [
    "## Exercise 4\n",
    "\n",
    "You keep going and conduct 100 separate experiments and end up with these results:\n",
    "\n",
    "Measured releases\t| Count\n",
    "---------------- | -------\n",
    "0 | 0\n",
    "1 | 0\n",
    "2 | 3\n",
    "3 | 7\n",
    "4 | 10\n",
    "5 | 19\n",
    "6 | 26\n",
    "7 | 16\n",
    "8 | 16\n",
    "9 | 5\n",
    "10 | 5\n",
    "11 | 0\n",
    "12 | 0\n",
    "13 | 0\n",
    "14 | 0\n",
    "\n",
    "What is the most likely value of *p* (which we typically refer to as $\\hat{p}$, which is pronounced as \"p-hat\" and represents the maximum-likelihood estimate of a parameter in the population given our sample with a resolution of 0.01? \n",
    "\n",
    "BONUS: Use a fitting procedure to find $\\hat{p}$."
   ]
  },
  {
   "metadata": {
    "ExecuteTime": {
     "end_time": "2025-09-05T07:22:42.925518Z",
     "start_time": "2025-09-05T07:22:42.854721Z"
    }
   },
   "cell_type": "code",
   "source": [
    "n = 14\n",
    "counts = {\n",
    "    0:0, 1:0, 2:3, 3:7, 4:10,\n",
    "    5:19, 6:26, 7:16, 8:16, 9:5,\n",
    "    10:5, 11:0, 12:0, 13:0, 14:0\n",
    "}\n",
    "ps = np.linspace(0, 1, 101)  \n",
    "logLs = []\n",
    "for p in ps:\n",
    "    if p == 0 or p == 1:\n",
    "        logLs.append(-np.inf)\n",
    "    else:\n",
    "        logL = sum(c * np.log(binom.pmf(k, n, p)) for k,c in counts.items() if c>0)\n",
    "        logLs.append(logL)\n",
    "\n",
    "p_hat_grid = ps[np.argmax(logLs)]\n",
    "logL_hat_grid = max(logLs)\n",
    "\n",
    "print(f\"Most likely value of p_hat = {p_hat_grid:.2f}\")\n",
    "from scipy.optimize import minimize_scalar\n",
    "\n",
    "def neg_logL(p):\n",
    "    if p <= 0 or p >= 1:\n",
    "        return np.inf\n",
    "    return -sum(c * np.log(binom.pmf(k, n, p)) for k,c in counts.items() if c>0)\n",
    "\n",
    "res = minimize_scalar(neg_logL, bounds=(0,1), method=\"bounded\")\n",
    "p_hat_fit = res.x\n",
    "logL_hat_fit = -res.fun\n",
    "\n",
    "print(f\"MLE (fit): p_hat = {p_hat_fit:.5f}\")"
   ],
   "outputs": [
    {
     "name": "stdout",
     "output_type": "stream",
     "text": [
      "Most likely value of p_hat = 0.44\n",
      "MLE (fit): p_hat = 0.43591\n"
     ]
    }
   ],
   "execution_count": 29
  },
  {
   "cell_type": "markdown",
   "metadata": {
    "id": "9BZG29IBSo6E"
   },
   "source": [
    "## Exercise 5\n",
    "\n",
    "Let's say that you have run an exhaustive set of experiments on this synapse and have determined that the true release probability is 0.3 (within some very small tolerance). Now you want to test whether changing the temperature of the preparation affects the release probability. So you change the temperature, perform the experiment, and measure 7 quantal events for the same 14 available quanta. Compute $\\hat{p}$. Standard statistical inference now asks the question, what is the probability that you would have obtained that measurement given a Null Hypothesis of no effect? In this case, no effect corresponds to an unchanged value of the true release probability (i.e., its value remained at 0.3 even with the temperature change). What is the probability that you would have gotten that measurement if your Null Hypothesis were true? Can you conclude that temperature had an effect?"
   ]
  },
  {
   "metadata": {
    "ExecuteTime": {
     "end_time": "2025-09-05T07:25:19.100393Z",
     "start_time": "2025-09-05T07:25:19.086609Z"
    }
   },
   "cell_type": "code",
   "source": [
    "n = 14\n",
    "k = 7\n",
    "p0 = 0.3\n",
    "p_hat = k / n\n",
    "\n",
    "pmf = binom.pmf(k, n, p0)\n",
    "\n",
    "# One-sided p-value\n",
    "p_one_sided = 1-binom.cdf(k-1, n, p0) \n",
    "print(f'p_hat: {p_hat}')\n",
    "print(f'Probability of measurement given no effect: {pmf}')\n",
    "print(f'p_one_sided: {p_one_sided} (not significant)')"
   ],
   "outputs": [
    {
     "name": "stdout",
     "output_type": "stream",
     "text": [
      "p_hat: 0.5\n",
      "Probability of measurement given no effect: 0.06181335872712\n",
      "p_one_sided: 0.09328189116275998 (not significant)\n"
     ]
    }
   ],
   "execution_count": 37
  },
  {
   "metadata": {},
   "cell_type": "markdown",
   "source": [
    "## Figure Recreation\n",
    "I used 10.1103/PhysRevLett.132.228401 (Rijal et al., 2024) Figure 4C"
   ]
  },
  {
   "metadata": {
    "ExecuteTime": {
     "end_time": "2025-09-05T08:06:23.238712Z",
     "start_time": "2025-09-05T08:06:23.083532Z"
    }
   },
   "cell_type": "code",
   "source": [
    "p = 0.345\n",
    "n = 50                      # number of \"trials\" per \"experiment\"\n",
    "num_experiments = 10000;     # number of \"experiments\"\n",
    "outcomes = binom.rvs(n,p,size=num_experiments)\n",
    "\n",
    "# Show a bar plot (histogram) of all of the possible outcomes\n",
    "counts = collections.Counter(outcomes)\n",
    "\n",
    "# Show a normalized version that is a pdf. Here counts (the x-axis of the histogram) \n",
    "#   is a DISCRETE variable, so we just have to add up the values\n",
    "normalized_counts = {k: v / total for total in (sum(counts.values()),) for k, v in counts.items()}\n",
    "plt.subplot(212)\n",
    "plt.bar(normalized_counts.keys(), normalized_counts.values())\n",
    "plt.xlim([-1, n+1])\n",
    "plt.xlabel(f'Quanta released in {n} tries')\n",
    "plt.ylabel('Quantal Content')\n",
    "plt.subplots_adjust(hspace=0.3)"
   ],
   "outputs": [
    {
     "data": {
      "text/plain": [
       "<Figure size 640x480 with 1 Axes>"
      ],
      "image/png": "[encoded data removed]"
     },
     "metadata": {},
     "output_type": "display_data"
    }
   ],
   "execution_count": 39
  },
  {
   "cell_type": "markdown",
   "metadata": {
    "id": "UFYyaeLwTb35"
   },
   "source": [
    "## Bonus Exercise\n",
    "\n",
    "These data are reproduced from Tables 1 and 2 of Johnson and Wernig. Note that *nx* indicates the number of trials (\"release events\") with *x* measured events. Each row is a separate experiment (don't worry about the ordering, which here is reproduced as it is in the paper).\n",
    "\n",
    "Temp (°C)\t| n0\t| n1\t| n2\t| n3\t| n4\t| n5+\n",
    "--- | --| --- | --- | --- | --- | ---\n",
    "4.0\t| 615\t| 206\t| 33\t| 2\t| 0\t| 0\n",
    "3.5\t| 604\t| 339\t| 94\t| 11\t| 2\t| 0\n",
    "0.0 | \t332\t| 126\t| 21\t| 1\t| 0\t| 0\n",
    "2.0\t| 573\t| 443\t| 154\t| 28\t| 2\t| 0\n",
    "6.5\t| 172\t| 176\t| 89\t| 12\t| 1\t| 0\n",
    "3.0\t| 80\t| 224\t| 200\t| 32\t| 4\t| 0\n",
    "\n",
    "You can probably already see that some experiments resulted in primarily zero or one events per trial (e.g., the top experiment), whereas others tended to have more events (e.g., the bottom experiment).\n",
    "\n",
    "Do the quantal event numbers follow a binomial distribution? If so, then that would lend support to the idea that the events are generated by a process that can be characterized in terms of the number of available quanta and the average probability of release of each quantum.\n",
    "\n",
    "Provide a qualitative answer to this question by comparing the empirical distributions (see the data table, above) to the predicted binomial distribution. To get the predicted distribution (i.e., the probabilities associated with each value of *k* from Eq. 1, given the release probability p and the number of available quanta *n*), you need to determine both *k* and *n* from the empirical measurements. To determine *p*, use Eq. 5 in the paper: $p=1-\\frac{\\sigma ^{2}}{m}$\n",
    "\n",
    "where $\\sigma ^{2}$ is the variance and *m* is the mean of the trial-by-trial counts that can be determined from the data. To determine *n*, compute *m*/*p* (because *m* = *n* x *p*).\n",
    "\n",
    "As an added bonus, also include the predicted Poisson distribution, which can be computed using only the mean number of events (*m*, described above).\n",
    "\n"
   ]
  },
  {
   "cell_type": "markdown",
   "metadata": {
    "id": "TxctXRrXQqv4"
   },
   "source": [
    "# Additional Resources\n",
    "\n",
    "Working with the binomial distribution in [Matlab](https://www.mathworks.com/help/stats/binomial-distribution.html), [R](https://www.rdocumentation.org/packages/stats/versions/3.3/topics/Binomial), and [Python](https://docs.scipy.org/doc/scipy/reference/generated/scipy.stats.binom.html)."
   ]
  },
  {
   "cell_type": "markdown",
   "metadata": {
    "id": "tteEm2Qlgbb3"
   },
   "source": [
    "# Credits\n",
    "\n",
    "Copyright 2021 by Joshua I. Gold, University of Pennsylvania"
   ]
  }
 ],
 "metadata": {
  "colab": {
   "collapsed_sections": [
    "pKIiY6p3GRFq",
    "bkVu6eGKIIiQ",
    "u3yXPCmMH2CH",
    "NPyYR5dgJ4Q9",
    "VveIEEiyLUSk",
    "eG7Kvl5pL4jf",
    "-INGaYFtM-Cp",
    "GCN6aNp1N0nC",
    "9BZG29IBSo6E",
    "UFYyaeLwTb35"
   ],
   "name": "Biomial Distribution",
   "provenance": [
    {
     "file_id": "14S2ca44h8TKC1hFXjk5ktwBYpGU6R5S-",
     "timestamp": 1624411796822
    }
   ]
  },
  "kernelspec": {
   "display_name": "Python [conda env:base] *",
   "name": "conda-base-py",
   "language": "python"
  },
  "language_info": {
   "name": "python"
  }
 },
 "nbformat": 4,
 "nbformat_minor": 0
}
