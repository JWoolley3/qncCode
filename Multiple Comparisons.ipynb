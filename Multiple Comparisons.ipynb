{
 "cells": [
  {
   "cell_type": "markdown",
   "metadata": {},
   "source": [
    "[![Open In Colab](https://colab.research.google.com/assets/colab-badge.svg)](https://colab.research.google.com/github/PennNGG/Quantitative-Neuroscience/blob/master/Concepts/Python/Multiple%20Comparisons.ipynb)"
   ]
  },
  {
   "cell_type": "markdown",
   "metadata": {
    "id": "pKIiY6p3GRFq"
   },
   "source": [
    "# Definitions"
   ]
  },
  {
   "cell_type": "markdown",
   "metadata": {
    "id": "x7VmLUr5GTNw"
   },
   "source": [
    "The multiple comparisons problem in statistics occurs when multiple statistical inferences are done simultaneously, which greatly increases the probability that any one inference will yield an erroneous result, by chance. A lot has been written about this problem, including:\n",
    "\n",
    "- [Its prevalence in fMRI data analysis](https://www.sciencedirect.com/science/article/pii/S1053811912007057?via%3Dihub) (including a compelling illustration by this [prizewinning study](https://blogs.scientificamerican.com/scicurious-brain/ignobel-prize-in-neuroscience-the-dead-salmon-study/)\\)\n",
    "\n",
    "- [How Baysian methods can avoid the problem](http://www.stat.columbia.edu/~gelman/research/published/multiple2f.pdf).\n",
    "\n",
    "- [General approaches for correcting for multiple comparisons](http://www.biostathandbook.com/multiplecomparisons.html).\n",
    "\n",
    "Here we will provide some intuition for the problem using a simple thought experiment, to sensitize you to how much of a problem it can be. Consider performing the same statistical test on *N* different samples corresponding to, say, different voxels in fMRI data, using a *p*-value of $\\alpha$ (typically 0.05) for each test. \n",
    "\n",
    "Thus, for any one test, the probability of getting a Type I error (rejecting $H_0$ when $H_0$ is true) is $\\alpha$:\n",
    "\n",
    "$p_{error}=\\alpha$\n",
    "\n",
    "For two tests, the probably of getting a Type I error for either test is just one minus the combined probability of not getting a Type I error from either one:\n",
    "\n",
    "$p_{error}=1-(1-\\alpha)(1-\\alpha)$\n",
    "\n",
    "For *N* tests, the probably of getting a Type I error for either test is just one minus the combined probability of not getting a Type I error from any one:\n",
    "\n",
    "$p_{error}=1-(1-\\alpha)^N$\n",
    "\n",
    "Run the cell below to see that the probability of getting a Type I error under these conditions grows rapidly with *N*, implying that it becomes very, very likely that you will get a \"statistically significant result\" just by chance if you do enough tests:"
   ]
  },
  {
   "cell_type": "code",
   "metadata": {
    "colab": {
     "base_uri": "https://localhost:8080/",
     "height": 296
    },
    "executionInfo": {
     "elapsed": 525,
     "status": "ok",
     "timestamp": 1632488611022,
     "user": {
      "displayName": "Andy Revell",
      "photoUrl": "https://lh3.googleusercontent.com/a-/AOh14Gj5gNTTY1RDZJBZaP8Pnu_AnG7Wlu4JydmSsiPWXA=s64",
      "userId": "00217113324745895537"
     },
     "user_tz": 240
    },
    "id": "2hOkXUd67ulE",
    "outputId": "be1f4885-b013-4e1d-8cbc-80e1dbfd7006",
    "ExecuteTime": {
     "end_time": "2025-09-22T00:23:58.088091Z",
     "start_time": "2025-09-22T00:23:57.276992Z"
    }
   },
   "source": [
    "import matplotlib.pyplot as plt\n",
    "import numpy as np\n",
    "\n",
    "alpha = 0.05\n",
    "N = np.arange(0,100)\n",
    "plt.plot(N, 1-(1-alpha)**N)\n",
    "plt.xlabel('N')\n",
    "plt.ylabel('$P_{error}$')"
   ],
   "outputs": [
    {
     "data": {
      "text/plain": [
       "Text(0, 0.5, '$P_{error}$')"
      ]
     },
     "execution_count": 1,
     "metadata": {},
     "output_type": "execute_result"
    },
    {
     "data": {
      "text/plain": [
       "<Figure size 640x480 with 1 Axes>"
      ],
      "image/png": "[encoded data removed]"
     },
     "metadata": {},
     "output_type": "display_data"
    }
   ],
   "execution_count": 1
  },
  {
   "cell_type": "markdown",
   "metadata": {
    "id": "mzkMd-fc9cVM"
   },
   "source": [
    "# Correcting for multiple comparisons"
   ]
  },
  {
   "cell_type": "markdown",
   "metadata": {
    "id": "ncsvEVZB9gNS"
   },
   "source": [
    "\n",
    "\n",
    "There are a number of different methods that can be used to [correct for this problem](https://www.ncbi.nlm.nih.gov/pmc/articles/PMC5506159/). Below are two common methods.\n",
    "\n",
    "\n"
   ]
  },
  {
   "cell_type": "markdown",
   "metadata": {
    "id": "S7_LgTOk9sPr"
   },
   "source": [
    "## Bonferroni correction"
   ]
  },
  {
   "cell_type": "markdown",
   "metadata": {
    "id": "-N0vdWBq9vNU"
   },
   "source": [
    "The simplest way to correct for Type I errors (false positives) in multiple comparisons is to divide $\\alpha$ by the number of comparisons, known as the [Bonferroni correction](https://mathworld.wolfram.com/BonferroniCorrection.html). This is a very conservative test that is typically used when the number of comparisons is relatively small and you want to avoid Type I errors."
   ]
  },
  {
   "cell_type": "markdown",
   "metadata": {
    "id": "_YxAlI859900"
   },
   "source": [
    "## Benjamini–Hochberg procedure\n"
   ]
  },
  {
   "cell_type": "markdown",
   "metadata": {
    "id": "dSE9u8cN-A9U"
   },
   "source": [
    "Another approach is to more carefully control the false-discovery rate using the [Benjamini–Hochberg procedure](https://www.jstor.org/stable/2346101?seq=1#metadata_info_tab_contents):\n",
    "\n",
    "1\\. Rank the individual *p*-values in ascending order, labeled *i*=1...*n*\n",
    "\n",
    "2\\. For each *p*-value, calculate its \"critical value\" as (*i*/*n*)*Q*, where *i* is the rank, *n* is the total number of tests, and *Q* is the false discovery rate (a percentage) that you choose (typically 0.05).\n",
    "\n",
    "3\\. In your rank-ordered, original *p*-values, find the largest value that is smaller than its associated critical value; this *p*-value is the new criterion (i.e., reject $H_0$ for all cases for which *p* ≤ this value)."
   ]
  },
  {
   "cell_type": "markdown",
   "metadata": {},
   "source": [
    "# Exercise"
   ]
  },
  {
   "cell_type": "markdown",
   "metadata": {},
   "source": [
    "In this exercise we will run through an example of correcting for multiple comparisons with both the Benjamini-Hochberg procedure and the more conservative Bonferroni correction. \n",
    "\n",
    "First, simulate multiple (say, 1000) t-tests comparing two samples with equal means and standard deviations, and save the p-values. Obviously, at p<0.05 we expect that ~5% of the simulations to yield a \"statistically significant\" result (of rejecting the NULL hypothesis that the samples come from distributions with equal means).\n",
    "\n",
    "Second, once you have the simulated p-values, apply both methods to address the multiple comparisons problem.\n",
    "\n",
    "Third, set the sample 1 and sample 2 means to be 1 and 2 respectively, and re-run the exercise. What do you notice? What if you make the difference between means even greater?"
   ]
  },
  {
   "metadata": {
    "ExecuteTime": {
     "end_time": "2025-09-22T00:37:44.108133Z",
     "start_time": "2025-09-22T00:37:40.958176Z"
    }
   },
   "cell_type": "code",
   "source": [
    "#1\n",
    "#simulate 1000 t-tests comparing two samples with equal means and standard deviations, and save the p-values\n",
    "from scipy import stats\n",
    "np.random.seed(0)\n",
    "n_tests = 1000\n",
    "p_values = np.zeros(n_tests)\n",
    "for i in range(n_tests):\n",
    "    sample1 = np.random.normal(0, 1, 20)\n",
    "    sample2 = np.random.normal(0, 1, 20)\n",
    "    t_stat, p_values[i] = stats.ttest_ind(sample1, sample2)\n",
    "\n",
    "print(f'Percent of tests with p<0.05: {np.sum(p_values<0.05)/n_tests*100}%')\n",
    "\n",
    "#2\n",
    "#apply Bonferroni correction\n",
    "alpha_bonf = 0.05 / n_tests\n",
    "n_significant_bonf = np.sum(p_values < alpha_bonf)\n",
    "print(f'Percent of tests significant after Bonferroni correction: {n_significant_bonf/n_tests*100}%')\n",
    "\n",
    "#apply Benjamini-Hochberg procedure\n",
    "Q = 0.05\n",
    "sorted_p_values = np.sort(p_values)\n",
    "critical_values = (np.arange(1, n_tests+1) / n_tests) * Q\n",
    "significant_bh = sorted_p_values <= critical_values\n",
    "n_significant_bh = np.sum(significant_bh)\n",
    "print(f'Percent of tests significant after Benjamini-Hochberg procedure: {n_significant_bh/n_tests*100}%')\n",
    "\n",
    "#3\n",
    "#set the sample 1 and sample 2 means to be 1 and 2 respectively, and re-run the exercise\n",
    "p_values_new = np.zeros(n_tests)\n",
    "for i in range(n_tests):\n",
    "    sample1 = np.random.normal(1, 1, 20)\n",
    "    sample2 = np.random.normal(2, 1, 20)\n",
    "    t_stat, p_values_new[i] = stats.ttest_ind(sample1, sample2)\n",
    "print(f'Percent of new tests with p<0.05 (new means): {np.sum(p_values_new<0.05)/n_tests*100}%')\n",
    "alpha_bonf = 0.05 / n_tests\n",
    "n_significant_bonf = np.sum(p_values_new < alpha_bonf)\n",
    "print(f'Percent of new tests significant after Bonferroni correction: {n_significant_bonf/n_tests*100}%')\n",
    "sorted_p_values = np.sort(p_values_new)\n",
    "critical_values = (np.arange(1, n_tests+1) / n_tests) * Q\n",
    "significant_bh = sorted_p_values <= critical_values\n",
    "n_significant_bh = np.sum(significant_bh)\n",
    "print(f'Percent of new tests significant after Benjamini-Hochberg procedure: {n_significant_bh/n_tests*100}%')\n",
    "\n",
    "#what if you make the difference between means even greater?\n",
    "p_values_greater = np.zeros(n_tests)\n",
    "for i in range(n_tests):\n",
    "    sample1 = np.random.normal(1, 1, 20)\n",
    "    sample2 = np.random.normal(3, 1, 20)\n",
    "    t_stat, p_values_greater[i] = stats.ttest_ind(sample1, sample2)\n",
    "print(f'Percent of greater difference (means of 1 and 3) tests with p<0.05: {np.sum(p_values_greater<0.05)/n_tests*100}%')\n",
    "alpha_bonf = 0.05 / n_tests\n",
    "n_significant_bonf = np.sum(p_values_greater < alpha_bonf)\n",
    "print(f'Percent of greater difference tests significant after Bonferroni correction: {n_significant_bonf/n_tests*100}%')\n",
    "sorted_p_values = np.sort(p_values_greater)\n",
    "critical_values = (np.arange(1, n_tests+1) / n_tests) * Q\n",
    "significant_bh = sorted_p_values <= critical_values\n",
    "n_significant_bh = np.sum(significant_bh)\n",
    "print(f'Percent of greater difference tests significant after Benjamini-Hochberg procedure: {n_significant_bh/n_tests*100}%')\n"
   ],
   "outputs": [
    {
     "name": "stdout",
     "output_type": "stream",
     "text": [
      "Percent of tests with p<0.05: 4.8%\n",
      "Percent of tests significant after Bonferroni correction: 0.0%\n",
      "Percent of tests significant after Benjamini-Hochberg procedure: 0.0%\n",
      "Percent of new tests with p<0.05 (new means): 87.6%\n",
      "Percent of new tests significant after Bonferroni correction: 12.7%\n",
      "Percent of new tests significant after Benjamini-Hochberg procedure: 85.9%\n",
      "Percent of greater difference (means of 1 and 3) tests with p<0.05: 100.0%\n",
      "Percent of greater difference tests significant after Bonferroni correction: 94.39999999999999%\n",
      "Percent of greater difference tests significant after Benjamini-Hochberg procedure: 100.0%\n"
     ]
    }
   ],
   "execution_count": 8
  },
  {
   "cell_type": "markdown",
   "metadata": {
    "id": "UqoNXyuxP-go"
   },
   "source": [
    "# Additional Resources\n"
   ]
  },
  {
   "cell_type": "markdown",
   "metadata": {
    "id": "clnBO4FU28El"
   },
   "source": [
    "How to correct for multiple comparisons in [Matlab](https://www.mathworks.com/help/stats/multcompare.html), [R](https://stat.ethz.ch/R-manual/R-devel/library/stats/html/p.adjust.html), and [Python](https://www.statsmodels.org/dev/generated/statsmodels.stats.multitest.multipletests.html)"
   ]
  },
  {
   "cell_type": "markdown",
   "metadata": {
    "id": "tteEm2Qlgbb3"
   },
   "source": [
    "# Credits\n",
    "\n",
    "Copyright 2021 by Joshua I. Gold, University of Pennsylvania"
   ]
  }
 ],
 "metadata": {
  "colab": {
   "collapsed_sections": [
    "pKIiY6p3GRFq"
   ],
   "name": "Multiple Comparisons",
   "provenance": [
    {
     "file_id": "1wTKRgKK5eDUya7FZRHeu1RaoY7kuhiGi",
     "timestamp": 1626364730636
    },
    {
     "file_id": "1rdJMusMZDTaM9OGsyt27tCVkSasmRj2O",
     "timestamp": 1626357708093
    },
    {
     "file_id": "1HW0L_d5Wpod3jbnY3iG7mLhMG6yWHvF2",
     "timestamp": 1626350171621
    },
    {
     "file_id": "1-KxH3FCq5rDyyO33HXxewIv-kKldkINi",
     "timestamp": 1626290714843
    },
    {
     "file_id": "14S2ca44h8TKC1hFXjk5ktwBYpGU6R5S-",
     "timestamp": 1624411796822
    }
   ],
   "toc_visible": true
  },
  "kernelspec": {
   "display_name": "Python [conda env:base] *",
   "language": "python",
   "name": "conda-base-py"
  },
  "language_info": {
   "name": "python",
   "version": "3.9.6"
  },
  "vscode": {
   "interpreter": {
    "hash": "aee8b7b246df8f9039afb4144a1f6fd8d2ca17a180786b69acc140d282b71a49"
   }
  }
 },
 "nbformat": 4,
 "nbformat_minor": 0
}
